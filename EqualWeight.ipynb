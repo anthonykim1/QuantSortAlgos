{
 "cells": [
  {
   "cell_type": "code",
   "execution_count": 1,
   "metadata": {},
   "outputs": [],
   "source": [
    "# Goal is to create python script that will accept the value of your portfolio and tell you how many shares of each S&P 500 constituent you should purchase to get an equal-weight version of the index fund "
   ]
  },
  {
   "cell_type": "code",
   "execution_count": 2,
   "metadata": {},
   "outputs": [],
   "source": [
    "import numpy as np\n",
    "import pandas as pd \n",
    "import requests\n",
    "# request is gold standard for making http requests. Http request is basically internet request that you can make to an API to get some data\n",
    "import xlsxwriter\n",
    "import math"
   ]
  },
  {
   "cell_type": "code",
   "execution_count": 3,
   "metadata": {},
   "outputs": [],
   "source": [
    "#Now we import the constitutents of the S&P 500 "
   ]
  },
  {
   "cell_type": "code",
   "execution_count": 4,
   "metadata": {},
   "outputs": [],
   "source": [
    "stocks = pd.read_csv('sp_500_stocks.csv')"
   ]
  },
  {
   "cell_type": "code",
   "execution_count": 5,
   "metadata": {},
   "outputs": [],
   "source": [
    "# Acquire an API Token...import our IEX cloud API token.\n",
    "from secrets import IEX_CLOUD_API_TOKEN"
   ]
  },
  {
   "cell_type": "code",
   "execution_count": 6,
   "metadata": {},
   "outputs": [
    {
     "name": "stdout",
     "output_type": "stream",
     "text": [
      "{'symbol': 'AAPL', 'companyName': 'Apple Inc', 'primaryExchange': 'LGRNE M /GTSAOAAL)BQDEELAS(KSTC N', 'calculationPrice': 'tops', 'open': None, 'openTime': None, 'openSource': 'oifcfial', 'close': None, 'closeTime': None, 'closeSource': 'lofaicfi', 'high': None, 'highTime': None, 'highSource': None, 'low': None, 'lowTime': None, 'lowSource': None, 'latestPrice': 133.32, 'latestSource': 'IEX real time price', 'latestTime': '3:09:50 PM', 'latestUpdate': 1690334080951, 'latestVolume': None, 'iexRealtimePrice': 131.18, 'iexRealtimeSize': 99, 'iexLastUpdated': 1643207088745, 'delayedPrice': None, 'delayedPriceTime': None, 'oddLotDelayedPrice': None, 'oddLotDelayedPriceTime': None, 'extendedPrice': None, 'extendedChange': None, 'extendedChangePercent': None, 'extendedPriceTime': None, 'previousClose': 136.8, 'previousVolume': 98429980, 'change': -3.2, 'changePercent': -0.02407, 'volume': None, 'iexMarketPercent': 0.01500837350004694, 'iexVolume': 1735055, 'avgTotalVolume': 112337799, 'iexBidPrice': 131.8, 'iexBidSize': 101, 'iexAskPrice': 134.12, 'iexAskSize': 101, 'iexOpen': 132.17, 'iexOpenTime': 1675920302725, 'iexClose': 134.26, 'iexCloseTime': 1652144276744, 'marketCap': 2202381575744, 'peRatio': 39.97, 'week52High': 139.84, 'week52Low': 56.6, 'ytdChange': -0.03776691947108942, 'lastTradeTime': 1689866415933, 'isUSMarketOpen': True}\n"
     ]
    }
   ],
   "source": [
    "# Make first API call\n",
    "# base url is a url that will start every http request and after that you have to add which specific endpoint that you want to retrieve from the API,\n",
    "# most api expose certain data through each endpoint which makes things faster if you only need to retrieve certain data \n",
    "\n",
    "symbol = 'AAPL'\n",
    "api_url = f'https://sandbox.iexapis.com/stable/stock/{symbol}/quote/?token={IEX_CLOUD_API_TOKEN}'\n",
    "data = requests.get(api_url).json()\n",
    "print(data)\n"
   ]
  },
  {
   "cell_type": "code",
   "execution_count": 10,
   "metadata": {},
   "outputs": [
    {
     "name": "stdout",
     "output_type": "stream",
     "text": [
      "2.202381575744\n"
     ]
    }
   ],
   "source": [
    "# now parse\n",
    "price = data['latestPrice']\n",
    "market_cap = data['marketCap']\n",
    "print(market_cap/1000000000000)"
   ]
  },
  {
   "cell_type": "code",
   "execution_count": 17,
   "metadata": {},
   "outputs": [
    {
     "data": {
      "text/html": [
       "<div>\n",
       "<style scoped>\n",
       "    .dataframe tbody tr th:only-of-type {\n",
       "        vertical-align: middle;\n",
       "    }\n",
       "\n",
       "    .dataframe tbody tr th {\n",
       "        vertical-align: top;\n",
       "    }\n",
       "\n",
       "    .dataframe thead th {\n",
       "        text-align: right;\n",
       "    }\n",
       "</style>\n",
       "<table border=\"1\" class=\"dataframe\">\n",
       "  <thead>\n",
       "    <tr style=\"text-align: right;\">\n",
       "      <th></th>\n",
       "      <th>Ticker</th>\n",
       "      <th>Stock Price</th>\n",
       "      <th>Market Capitalization</th>\n",
       "      <th>Number of Shares to Buy</th>\n",
       "    </tr>\n",
       "  </thead>\n",
       "  <tbody>\n",
       "  </tbody>\n",
       "</table>\n",
       "</div>"
      ],
      "text/plain": [
       "Empty DataFrame\n",
       "Columns: [Ticker, Stock Price, Market Capitalization, Number of Shares to Buy]\n",
       "Index: []"
      ]
     },
     "execution_count": 17,
     "metadata": {},
     "output_type": "execute_result"
    }
   ],
   "source": [
    "#Add stocks data to pandas dataframe \n",
    "my_columns = ['Ticker', 'Stock Price', 'Market Capitalization', 'Number of Shares to Buy']\n",
    "final_dataframe = pd.DataFrame(columns = my_columns)\n",
    "final_dataframe"
   ]
  },
  {
   "cell_type": "code",
   "execution_count": 22,
   "metadata": {},
   "outputs": [
    {
     "data": {
      "text/html": [
       "<div>\n",
       "<style scoped>\n",
       "    .dataframe tbody tr th:only-of-type {\n",
       "        vertical-align: middle;\n",
       "    }\n",
       "\n",
       "    .dataframe tbody tr th {\n",
       "        vertical-align: top;\n",
       "    }\n",
       "\n",
       "    .dataframe thead th {\n",
       "        text-align: right;\n",
       "    }\n",
       "</style>\n",
       "<table border=\"1\" class=\"dataframe\">\n",
       "  <thead>\n",
       "    <tr style=\"text-align: right;\">\n",
       "      <th></th>\n",
       "      <th>Ticker</th>\n",
       "      <th>Stock Price</th>\n",
       "      <th>Market Capitalization</th>\n",
       "      <th>Number of Shares to Buy</th>\n",
       "    </tr>\n",
       "  </thead>\n",
       "  <tbody>\n",
       "    <tr>\n",
       "      <th>0</th>\n",
       "      <td>AAPL</td>\n",
       "      <td>133.32</td>\n",
       "      <td>2202381575744</td>\n",
       "      <td>N/A</td>\n",
       "    </tr>\n",
       "  </tbody>\n",
       "</table>\n",
       "</div>"
      ],
      "text/plain": [
       "  Ticker  Stock Price Market Capitalization Number of Shares to Buy\n",
       "0   AAPL       133.32         2202381575744                     N/A"
      ]
     },
     "execution_count": 22,
     "metadata": {},
     "output_type": "execute_result"
    }
   ],
   "source": [
    "final_dataframe.append(\n",
    "    pd.Series(\n",
    "        [\n",
    "            symbol,\n",
    "            price,\n",
    "            market_cap,\n",
    "            'N/A' #start with NA now and then add it later\n",
    "        ],\n",
    "    index = my_columns),\n",
    "   \n",
    "    ignore_index=True\n",
    ")"
   ]
  },
  {
   "cell_type": "code",
   "execution_count": 27,
   "metadata": {},
   "outputs": [],
   "source": [
    "#loop through tickers in sp500 list of stocks \n",
    "final_dataframe = pd.DataFrame(columns = my_columns)\n",
    "for stock in stocks['Ticker']:\n",
    "    api_url = f'https://sandbox.iexapis.com/stable/stock/{stock}/quote/?token={IEX_CLOUD_API_TOKEN}'\n",
    "    data = requests.get(api_url).json()\n",
    "    final_dataframe = final_dataframe.append(\n",
    "        pd.Series(\n",
    "        [\n",
    "            stock,\n",
    "            data['latestPrice'],\n",
    "            data['marketCap'],\n",
    "            'N/A'\n",
    "        ],\n",
    "        index = my_columns),\n",
    "        ignore_index = True\n",
    "    )"
   ]
  },
  {
   "cell_type": "code",
   "execution_count": 28,
   "metadata": {},
   "outputs": [
    {
     "data": {
      "text/html": [
       "<div>\n",
       "<style scoped>\n",
       "    .dataframe tbody tr th:only-of-type {\n",
       "        vertical-align: middle;\n",
       "    }\n",
       "\n",
       "    .dataframe tbody tr th {\n",
       "        vertical-align: top;\n",
       "    }\n",
       "\n",
       "    .dataframe thead th {\n",
       "        text-align: right;\n",
       "    }\n",
       "</style>\n",
       "<table border=\"1\" class=\"dataframe\">\n",
       "  <thead>\n",
       "    <tr style=\"text-align: right;\">\n",
       "      <th></th>\n",
       "      <th>Ticker</th>\n",
       "      <th>Stock Price</th>\n",
       "      <th>Market Capitalization</th>\n",
       "      <th>Number of Shares to Buy</th>\n",
       "    </tr>\n",
       "  </thead>\n",
       "  <tbody>\n",
       "    <tr>\n",
       "      <th>0</th>\n",
       "      <td>A</td>\n",
       "      <td>127.51</td>\n",
       "      <td>38553590898</td>\n",
       "      <td>N/A</td>\n",
       "    </tr>\n",
       "    <tr>\n",
       "      <th>1</th>\n",
       "      <td>AAL</td>\n",
       "      <td>16.00</td>\n",
       "      <td>9835496169</td>\n",
       "      <td>N/A</td>\n",
       "    </tr>\n",
       "    <tr>\n",
       "      <th>2</th>\n",
       "      <td>AAP</td>\n",
       "      <td>174.28</td>\n",
       "      <td>11415550358</td>\n",
       "      <td>N/A</td>\n",
       "    </tr>\n",
       "    <tr>\n",
       "      <th>3</th>\n",
       "      <td>AAPL</td>\n",
       "      <td>130.60</td>\n",
       "      <td>2177270529040</td>\n",
       "      <td>N/A</td>\n",
       "    </tr>\n",
       "    <tr>\n",
       "      <th>4</th>\n",
       "      <td>ABBV</td>\n",
       "      <td>110.72</td>\n",
       "      <td>194064490692</td>\n",
       "      <td>N/A</td>\n",
       "    </tr>\n",
       "    <tr>\n",
       "      <th>...</th>\n",
       "      <td>...</td>\n",
       "      <td>...</td>\n",
       "      <td>...</td>\n",
       "      <td>...</td>\n",
       "    </tr>\n",
       "    <tr>\n",
       "      <th>500</th>\n",
       "      <td>YUM</td>\n",
       "      <td>108.36</td>\n",
       "      <td>33611094753</td>\n",
       "      <td>N/A</td>\n",
       "    </tr>\n",
       "    <tr>\n",
       "      <th>501</th>\n",
       "      <td>ZBH</td>\n",
       "      <td>167.80</td>\n",
       "      <td>33292340405</td>\n",
       "      <td>N/A</td>\n",
       "    </tr>\n",
       "    <tr>\n",
       "      <th>502</th>\n",
       "      <td>ZBRA</td>\n",
       "      <td>398.52</td>\n",
       "      <td>21588549866</td>\n",
       "      <td>N/A</td>\n",
       "    </tr>\n",
       "    <tr>\n",
       "      <th>503</th>\n",
       "      <td>ZION</td>\n",
       "      <td>48.56</td>\n",
       "      <td>8184748219</td>\n",
       "      <td>N/A</td>\n",
       "    </tr>\n",
       "    <tr>\n",
       "      <th>504</th>\n",
       "      <td>ZTS</td>\n",
       "      <td>174.61</td>\n",
       "      <td>80274353975</td>\n",
       "      <td>N/A</td>\n",
       "    </tr>\n",
       "  </tbody>\n",
       "</table>\n",
       "<p>505 rows × 4 columns</p>\n",
       "</div>"
      ],
      "text/plain": [
       "    Ticker  Stock Price Market Capitalization Number of Shares to Buy\n",
       "0        A       127.51           38553590898                     N/A\n",
       "1      AAL        16.00            9835496169                     N/A\n",
       "2      AAP       174.28           11415550358                     N/A\n",
       "3     AAPL       130.60         2177270529040                     N/A\n",
       "4     ABBV       110.72          194064490692                     N/A\n",
       "..     ...          ...                   ...                     ...\n",
       "500    YUM       108.36           33611094753                     N/A\n",
       "501    ZBH       167.80           33292340405                     N/A\n",
       "502   ZBRA       398.52           21588549866                     N/A\n",
       "503   ZION        48.56            8184748219                     N/A\n",
       "504    ZTS       174.61           80274353975                     N/A\n",
       "\n",
       "[505 rows x 4 columns]"
      ]
     },
     "execution_count": 28,
     "metadata": {},
     "output_type": "execute_result"
    }
   ],
   "source": [
    "final_dataframe"
   ]
  },
  {
   "cell_type": "code",
   "execution_count": 29,
   "metadata": {},
   "outputs": [],
   "source": [
    "# using batch API Calls to improve performance. \n",
    "# Batch API calls are one of the easiest way to improve performance of the code. This is becaseu HTTP requests are typically one of the slowest components of a script \n",
    "# Also API providers will often give you discounted rates for using batch API calls since they are easier for the API provider to respond to \n",
    "# IEX cloud limits their batch API calls to 100 tickers per request. Still, this reduces the number of API calls\n",
    "def chunks(lst, n):\n",
    "    \"\"\"Yield successive n sized chunks from lst\"\"\"\n",
    "    for i in range(0, len(lst), n):\n",
    "        yield lst[i:i+n]\n",
    "        "
   ]
  },
  {
   "cell_type": "code",
   "execution_count": 31,
   "metadata": {},
   "outputs": [
    {
     "name": "stdout",
     "output_type": "stream",
     "text": [
      "0         A\n",
      "1       AAL\n",
      "2       AAP\n",
      "3      AAPL\n",
      "4      ABBV\n",
      "      ...  \n",
      "95     CINF\n",
      "96       CL\n",
      "97      CLX\n",
      "98      CMA\n",
      "99    CMCSA\n",
      "Name: Ticker, Length: 100, dtype: object\n",
      "100     CME\n",
      "101     CMG\n",
      "102     CMI\n",
      "103     CMS\n",
      "104     CNC\n",
      "       ... \n",
      "195    FTNT\n",
      "196     FTV\n",
      "197      GD\n",
      "198      GE\n",
      "199    GILD\n",
      "Name: Ticker, Length: 100, dtype: object\n",
      "200     GIS\n",
      "201      GL\n",
      "202     GLW\n",
      "203      GM\n",
      "204    GOOG\n",
      "       ... \n",
      "295     MAA\n",
      "296     MAR\n",
      "297     MAS\n",
      "298     MCD\n",
      "299    MCHP\n",
      "Name: Ticker, Length: 100, dtype: object\n",
      "300     MCK\n",
      "301     MCO\n",
      "302    MDLZ\n",
      "303     MDT\n",
      "304     MET\n",
      "       ... \n",
      "395     RHI\n",
      "396     RJF\n",
      "397      RL\n",
      "398     RMD\n",
      "399     ROK\n",
      "Name: Ticker, Length: 100, dtype: object\n",
      "400     ROL\n",
      "401     ROP\n",
      "402    ROST\n",
      "403     RSG\n",
      "404     RTX\n",
      "       ... \n",
      "495    XLNX\n",
      "496     XOM\n",
      "497    XRAY\n",
      "498     XRX\n",
      "499     XYL\n",
      "Name: Ticker, Length: 100, dtype: object\n",
      "500     YUM\n",
      "501     ZBH\n",
      "502    ZBRA\n",
      "503    ZION\n",
      "504     ZTS\n",
      "Name: Ticker, dtype: object\n"
     ]
    }
   ],
   "source": [
    "symbol_groups = list(chunks(stocks['Ticker'], 100))\n",
    "for i in range(0, len(symbol_groups)):\n",
    "    print(symbol_groups[i])"
   ]
  },
  {
   "cell_type": "code",
   "execution_count": null,
   "metadata": {},
   "outputs": [],
   "source": []
  }
 ],
 "metadata": {
  "kernelspec": {
   "display_name": "Python 3",
   "language": "python",
   "name": "python3"
  },
  "language_info": {
   "codemirror_mode": {
    "name": "ipython",
    "version": 3
   },
   "file_extension": ".py",
   "mimetype": "text/x-python",
   "name": "python",
   "nbconvert_exporter": "python",
   "pygments_lexer": "ipython3",
   "version": "3.7.6"
  }
 },
 "nbformat": 4,
 "nbformat_minor": 4
}
